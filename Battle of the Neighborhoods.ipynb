{
 "cells": [
  {
   "cell_type": "markdown",
   "metadata": {},
   "source": [
    "# Battle of the Neighborhoods"
   ]
  },
  {
   "cell_type": "markdown",
   "metadata": {},
   "source": [
    "## Introduction"
   ]
  },
  {
   "cell_type": "markdown",
   "metadata": {},
   "source": [
    "Toronto is a diverse metropolis that is visited by thousands of tourists each year. \n",
    "While discovering the city most tourists are happy to get to know the best restaurants in town."
   ]
  },
  {
   "cell_type": "markdown",
   "metadata": {},
   "source": [
    "In this project the best-rated restaurants of the category \"Italian Restaurant\" are projected on a map so that tourists can see \n",
    "in which neighborhoods the best-rated Italian restaurants are located and if any of the best-rated Italian restaurants is closeby. "
   ]
  },
  {
   "cell_type": "markdown",
   "metadata": {},
   "source": [
    "## Data"
   ]
  },
  {
   "cell_type": "markdown",
   "metadata": {},
   "source": [
    "For this project the following data is used:\n",
    "   \n",
    "   1) Toronto data that contains Boroughs & Neighborhoods along with their latitude and longitude\n",
    "   \n",
    "   2) FourSquare data that contains venues close to a specific location\n",
    "   \n",
    "   3) FourSquare data that contains information (e.g. rating) of a specific venue"
   ]
  },
  {
   "cell_type": "markdown",
   "metadata": {},
   "source": [
    "## Methodology"
   ]
  },
  {
   "cell_type": "markdown",
   "metadata": {},
   "source": [
    "Import libraries used in the project"
   ]
  },
  {
   "cell_type": "code",
   "execution_count": 429,
   "metadata": {},
   "outputs": [],
   "source": [
    "import random # library for random number generation\n",
    "import numpy as np # library for vectorized computation\n",
    "import pandas as pd # library to process data as dataframes\n",
    "\n",
    "import matplotlib.pyplot as plt # plotting library\n",
    "\n",
    "import urllib.request\n",
    "\n",
    "from bs4 import BeautifulSoup"
   ]
  },
  {
   "cell_type": "code",
   "execution_count": 430,
   "metadata": {},
   "outputs": [
    {
     "name": "stdout",
     "output_type": "stream",
     "text": [
      "Requirement already satisfied: folium==0.5.0 in c:\\programdata\\anaconda3\\lib\\site-packages (0.5.0)\n",
      "Requirement already satisfied: requests in c:\\programdata\\anaconda3\\lib\\site-packages (from folium==0.5.0) (2.24.0)\n",
      "Requirement already satisfied: branca in c:\\programdata\\anaconda3\\lib\\site-packages (from folium==0.5.0) (0.4.2)\n",
      "Requirement already satisfied: six in c:\\programdata\\anaconda3\\lib\\site-packages (from folium==0.5.0) (1.15.0)\n",
      "Requirement already satisfied: jinja2 in c:\\programdata\\anaconda3\\lib\\site-packages (from folium==0.5.0) (2.11.2)\n",
      "Requirement already satisfied: certifi>=2017.4.17 in c:\\programdata\\anaconda3\\lib\\site-packages (from requests->folium==0.5.0) (2020.6.20)\n",
      "Requirement already satisfied: chardet<4,>=3.0.2 in c:\\programdata\\anaconda3\\lib\\site-packages (from requests->folium==0.5.0) (3.0.4)\n",
      "Requirement already satisfied: urllib3!=1.25.0,!=1.25.1,<1.26,>=1.21.1 in c:\\programdata\\anaconda3\\lib\\site-packages (from requests->folium==0.5.0) (1.25.11)\n",
      "Requirement already satisfied: idna<3,>=2.5 in c:\\programdata\\anaconda3\\lib\\site-packages (from requests->folium==0.5.0) (2.10)\n",
      "Requirement already satisfied: MarkupSafe>=0.23 in c:\\programdata\\anaconda3\\lib\\site-packages (from jinja2->folium==0.5.0) (1.1.1)\n"
     ]
    }
   ],
   "source": [
    "import json # library to handle JSON files\n",
    "import requests # library to handle requests\n",
    "from pandas.io.json import json_normalize # tranform JSON file into a pandas dataframe\n",
    "\n",
    "# Matplotlib and associated plotting modules\n",
    "import matplotlib.cm as cm\n",
    "import matplotlib.colors as colors\n",
    "\n",
    "# import k-means from clustering stage\n",
    "from sklearn.cluster import KMeans\n",
    "\n",
    "! pip install folium==0.5.0\n",
    "import folium # map rendering library\n",
    "\n",
    "from geopy.geocoders import Nominatim # convert an address into latitude and longitude values"
   ]
  },
  {
   "cell_type": "markdown",
   "metadata": {},
   "source": [
    "## Get location data of Toronto's neighbourhoods"
   ]
  },
  {
   "cell_type": "markdown",
   "metadata": {},
   "source": [
    "In the following steps we get a dataframe with all neighborhoods of Toronto and their respective locations"
   ]
  },
  {
   "cell_type": "code",
   "execution_count": 431,
   "metadata": {},
   "outputs": [],
   "source": [
    "url=\"https://en.wikipedia.org/wiki/List_of_postal_codes_of_Canada:_M\"\n",
    "page = urllib.request.urlopen(url)"
   ]
  },
  {
   "cell_type": "code",
   "execution_count": 432,
   "metadata": {},
   "outputs": [],
   "source": [
    "soup = BeautifulSoup(page, \"lxml\")"
   ]
  },
  {
   "cell_type": "code",
   "execution_count": 433,
   "metadata": {},
   "outputs": [],
   "source": [
    "all_tables=soup.find_all(\"table\")\n",
    "my_table=all_tables[0]"
   ]
  },
  {
   "cell_type": "code",
   "execution_count": 434,
   "metadata": {},
   "outputs": [],
   "source": [
    "table_contents=[]\n",
    "\n",
    "for row in my_table.findAll('td'):\n",
    "    cell = {}\n",
    "    if row.span.text=='Not assigned':\n",
    "        pass\n",
    "    else:\n",
    "        cell['PostalCode'] = row.p.text[:3]\n",
    "        cell['Borough'] = (row.span.text).split('(')[0]\n",
    "        cell['Neighborhood'] = (((((row.span.text).split('(')[1]).strip(')')).replace(' /',',')).replace(')',' ')).strip(' ')\n",
    "        table_contents.append(cell)"
   ]
  },
  {
   "cell_type": "code",
   "execution_count": 435,
   "metadata": {},
   "outputs": [],
   "source": [
    "df=pd.DataFrame(table_contents)\n",
    "df['Borough']=df['Borough'].replace({'Downtown TorontoStn A PO Boxes25 The Esplanade':'Downtown Toronto Stn A',\n",
    "                                             'East TorontoBusiness reply mail Processing Centre969 Eastern':'East Toronto Business',\n",
    "                                             'EtobicokeNorthwest':'Etobicoke Northwest','East YorkEast Toronto':'East York/East Toronto',\n",
    "                                             'MississaugaCanada Post Gateway Processing Centre':'Mississauga'})"
   ]
  },
  {
   "cell_type": "markdown",
   "metadata": {},
   "source": [
    "Add longitude & latitude to the dataframe"
   ]
  },
  {
   "cell_type": "code",
   "execution_count": 436,
   "metadata": {},
   "outputs": [],
   "source": [
    "coordinates=pd.read_csv(\"https://cf-courses-data.s3.us.cloud-object-storage.appdomain.cloud/IBMDeveloperSkillsNetwork-DS0701EN-SkillsNetwork/labs_v1/Geospatial_Coordinates.csv\")"
   ]
  },
  {
   "cell_type": "code",
   "execution_count": 437,
   "metadata": {},
   "outputs": [],
   "source": [
    "df[\"Latitude\"]=coordinates[\"Latitude\"]\n",
    "df[\"Longitude\"]=coordinates[\"Longitude\"]"
   ]
  },
  {
   "cell_type": "code",
   "execution_count": 438,
   "metadata": {},
   "outputs": [
    {
     "data": {
      "text/html": [
       "<div>\n",
       "<style scoped>\n",
       "    .dataframe tbody tr th:only-of-type {\n",
       "        vertical-align: middle;\n",
       "    }\n",
       "\n",
       "    .dataframe tbody tr th {\n",
       "        vertical-align: top;\n",
       "    }\n",
       "\n",
       "    .dataframe thead th {\n",
       "        text-align: right;\n",
       "    }\n",
       "</style>\n",
       "<table border=\"1\" class=\"dataframe\">\n",
       "  <thead>\n",
       "    <tr style=\"text-align: right;\">\n",
       "      <th></th>\n",
       "      <th>PostalCode</th>\n",
       "      <th>Borough</th>\n",
       "      <th>Neighborhood</th>\n",
       "      <th>Latitude</th>\n",
       "      <th>Longitude</th>\n",
       "    </tr>\n",
       "  </thead>\n",
       "  <tbody>\n",
       "    <tr>\n",
       "      <th>0</th>\n",
       "      <td>M3A</td>\n",
       "      <td>North York</td>\n",
       "      <td>Parkwoods</td>\n",
       "      <td>43.806686</td>\n",
       "      <td>-79.194353</td>\n",
       "    </tr>\n",
       "    <tr>\n",
       "      <th>1</th>\n",
       "      <td>M4A</td>\n",
       "      <td>North York</td>\n",
       "      <td>Victoria Village</td>\n",
       "      <td>43.784535</td>\n",
       "      <td>-79.160497</td>\n",
       "    </tr>\n",
       "    <tr>\n",
       "      <th>2</th>\n",
       "      <td>M5A</td>\n",
       "      <td>Downtown Toronto</td>\n",
       "      <td>Regent Park, Harbourfront</td>\n",
       "      <td>43.763573</td>\n",
       "      <td>-79.188711</td>\n",
       "    </tr>\n",
       "    <tr>\n",
       "      <th>3</th>\n",
       "      <td>M6A</td>\n",
       "      <td>North York</td>\n",
       "      <td>Lawrence Manor, Lawrence Heights</td>\n",
       "      <td>43.770992</td>\n",
       "      <td>-79.216917</td>\n",
       "    </tr>\n",
       "    <tr>\n",
       "      <th>4</th>\n",
       "      <td>M7A</td>\n",
       "      <td>Queen's Park</td>\n",
       "      <td>Ontario Provincial Government</td>\n",
       "      <td>43.773136</td>\n",
       "      <td>-79.239476</td>\n",
       "    </tr>\n",
       "    <tr>\n",
       "      <th>...</th>\n",
       "      <td>...</td>\n",
       "      <td>...</td>\n",
       "      <td>...</td>\n",
       "      <td>...</td>\n",
       "      <td>...</td>\n",
       "    </tr>\n",
       "    <tr>\n",
       "      <th>98</th>\n",
       "      <td>M8X</td>\n",
       "      <td>Etobicoke</td>\n",
       "      <td>The Kingsway, Montgomery Road, Old Mill North</td>\n",
       "      <td>43.706876</td>\n",
       "      <td>-79.518188</td>\n",
       "    </tr>\n",
       "    <tr>\n",
       "      <th>99</th>\n",
       "      <td>M4Y</td>\n",
       "      <td>Downtown Toronto</td>\n",
       "      <td>Church and Wellesley</td>\n",
       "      <td>43.696319</td>\n",
       "      <td>-79.532242</td>\n",
       "    </tr>\n",
       "    <tr>\n",
       "      <th>100</th>\n",
       "      <td>M7Y</td>\n",
       "      <td>East Toronto Business</td>\n",
       "      <td>Enclave of M4L</td>\n",
       "      <td>43.688905</td>\n",
       "      <td>-79.554724</td>\n",
       "    </tr>\n",
       "    <tr>\n",
       "      <th>101</th>\n",
       "      <td>M8Y</td>\n",
       "      <td>Etobicoke</td>\n",
       "      <td>Old Mill South, King's Mill Park, Sunnylea, Hu...</td>\n",
       "      <td>43.739416</td>\n",
       "      <td>-79.588437</td>\n",
       "    </tr>\n",
       "    <tr>\n",
       "      <th>102</th>\n",
       "      <td>M8Z</td>\n",
       "      <td>Etobicoke</td>\n",
       "      <td>Mimico NW, The Queensway West, South of Bloor,...</td>\n",
       "      <td>43.706748</td>\n",
       "      <td>-79.594054</td>\n",
       "    </tr>\n",
       "  </tbody>\n",
       "</table>\n",
       "<p>103 rows × 5 columns</p>\n",
       "</div>"
      ],
      "text/plain": [
       "    PostalCode                Borough  \\\n",
       "0          M3A             North York   \n",
       "1          M4A             North York   \n",
       "2          M5A       Downtown Toronto   \n",
       "3          M6A             North York   \n",
       "4          M7A           Queen's Park   \n",
       "..         ...                    ...   \n",
       "98         M8X              Etobicoke   \n",
       "99         M4Y       Downtown Toronto   \n",
       "100        M7Y  East Toronto Business   \n",
       "101        M8Y              Etobicoke   \n",
       "102        M8Z              Etobicoke   \n",
       "\n",
       "                                          Neighborhood   Latitude  Longitude  \n",
       "0                                            Parkwoods  43.806686 -79.194353  \n",
       "1                                     Victoria Village  43.784535 -79.160497  \n",
       "2                            Regent Park, Harbourfront  43.763573 -79.188711  \n",
       "3                     Lawrence Manor, Lawrence Heights  43.770992 -79.216917  \n",
       "4                        Ontario Provincial Government  43.773136 -79.239476  \n",
       "..                                                 ...        ...        ...  \n",
       "98       The Kingsway, Montgomery Road, Old Mill North  43.706876 -79.518188  \n",
       "99                                Church and Wellesley  43.696319 -79.532242  \n",
       "100                                     Enclave of M4L  43.688905 -79.554724  \n",
       "101  Old Mill South, King's Mill Park, Sunnylea, Hu...  43.739416 -79.588437  \n",
       "102  Mimico NW, The Queensway West, South of Bloor,...  43.706748 -79.594054  \n",
       "\n",
       "[103 rows x 5 columns]"
      ]
     },
     "execution_count": 438,
     "metadata": {},
     "output_type": "execute_result"
    }
   ],
   "source": [
    "df"
   ]
  },
  {
   "cell_type": "markdown",
   "metadata": {},
   "source": [
    "To keep the scope of the project reasonable, we will only have a look at neighborhoods that are part of the Borough \"Downtown Toronto\""
   ]
  },
  {
   "cell_type": "code",
   "execution_count": 439,
   "metadata": {},
   "outputs": [
    {
     "data": {
      "text/html": [
       "<div>\n",
       "<style scoped>\n",
       "    .dataframe tbody tr th:only-of-type {\n",
       "        vertical-align: middle;\n",
       "    }\n",
       "\n",
       "    .dataframe tbody tr th {\n",
       "        vertical-align: top;\n",
       "    }\n",
       "\n",
       "    .dataframe thead th {\n",
       "        text-align: right;\n",
       "    }\n",
       "</style>\n",
       "<table border=\"1\" class=\"dataframe\">\n",
       "  <thead>\n",
       "    <tr style=\"text-align: right;\">\n",
       "      <th></th>\n",
       "      <th>PostalCode</th>\n",
       "      <th>Borough</th>\n",
       "      <th>Neighborhood</th>\n",
       "      <th>Latitude</th>\n",
       "      <th>Longitude</th>\n",
       "    </tr>\n",
       "  </thead>\n",
       "  <tbody>\n",
       "    <tr>\n",
       "      <th>0</th>\n",
       "      <td>M5A</td>\n",
       "      <td>Downtown Toronto</td>\n",
       "      <td>Regent Park, Harbourfront</td>\n",
       "      <td>43.763573</td>\n",
       "      <td>-79.188711</td>\n",
       "    </tr>\n",
       "    <tr>\n",
       "      <th>1</th>\n",
       "      <td>M5B</td>\n",
       "      <td>Downtown Toronto</td>\n",
       "      <td>Garden District, Ryerson</td>\n",
       "      <td>43.692657</td>\n",
       "      <td>-79.264848</td>\n",
       "    </tr>\n",
       "    <tr>\n",
       "      <th>2</th>\n",
       "      <td>M5C</td>\n",
       "      <td>Downtown Toronto</td>\n",
       "      <td>St. James Town</td>\n",
       "      <td>43.799525</td>\n",
       "      <td>-79.318389</td>\n",
       "    </tr>\n",
       "    <tr>\n",
       "      <th>3</th>\n",
       "      <td>M5E</td>\n",
       "      <td>Downtown Toronto</td>\n",
       "      <td>Berczy Park</td>\n",
       "      <td>43.757490</td>\n",
       "      <td>-79.374714</td>\n",
       "    </tr>\n",
       "    <tr>\n",
       "      <th>4</th>\n",
       "      <td>M5G</td>\n",
       "      <td>Downtown Toronto</td>\n",
       "      <td>Central Bay Street</td>\n",
       "      <td>43.782736</td>\n",
       "      <td>-79.442259</td>\n",
       "    </tr>\n",
       "  </tbody>\n",
       "</table>\n",
       "</div>"
      ],
      "text/plain": [
       "  PostalCode           Borough               Neighborhood   Latitude  \\\n",
       "0        M5A  Downtown Toronto  Regent Park, Harbourfront  43.763573   \n",
       "1        M5B  Downtown Toronto   Garden District, Ryerson  43.692657   \n",
       "2        M5C  Downtown Toronto             St. James Town  43.799525   \n",
       "3        M5E  Downtown Toronto                Berczy Park  43.757490   \n",
       "4        M5G  Downtown Toronto         Central Bay Street  43.782736   \n",
       "\n",
       "   Longitude  \n",
       "0 -79.188711  \n",
       "1 -79.264848  \n",
       "2 -79.318389  \n",
       "3 -79.374714  \n",
       "4 -79.442259  "
      ]
     },
     "execution_count": 439,
     "metadata": {},
     "output_type": "execute_result"
    }
   ],
   "source": [
    "toronto_data = df[df['Borough'] == 'Downtown Toronto'].reset_index(drop=True)\n",
    "toronto_data.head()"
   ]
  },
  {
   "cell_type": "code",
   "execution_count": 440,
   "metadata": {},
   "outputs": [
    {
     "data": {
      "text/plain": [
       "(17, 5)"
      ]
     },
     "execution_count": 440,
     "metadata": {},
     "output_type": "execute_result"
    }
   ],
   "source": [
    "toronto_data.shape"
   ]
  },
  {
   "cell_type": "markdown",
   "metadata": {},
   "source": [
    "### Get data abour locations that are within a specific radius of the neighborhoods"
   ]
  },
  {
   "cell_type": "markdown",
   "metadata": {},
   "source": [
    "FourSquare credentials to get access to the FourSquare-API"
   ]
  },
  {
   "cell_type": "markdown",
   "metadata": {},
   "source": [
    "For data-privacy I deleted my credentials before I uploaded the Jupyter-Notebook"
   ]
  },
  {
   "cell_type": "code",
   "execution_count": 441,
   "metadata": {},
   "outputs": [],
   "source": [
    "CLIENT_ID = 'WZS531VYLY11XGK2RBKIKCVHKLSGKVRJIAY1SEGNGBFNTSML' # your Foursquare ID\n",
    "CLIENT_SECRET = '14N01KRGOOUJXI5D0DAGG0S4Q0OUPSX00S5OTKUIDZ1WH2ZO' # your Foursquare Secret\n",
    "ACCESS_TOKEN = 'B3YOYJUBMJ22D2XKZVS4NSV0SXACPKIY2XARHGBTOC1PHQ5U' # your FourSquare Access Token\n",
    "VERSION = '20180604'\n",
    "LIMIT = 5"
   ]
  },
  {
   "cell_type": "markdown",
   "metadata": {},
   "source": [
    "Create a dataframe that includes the top 5 venues of the category \"Italian Restaurant\" for each neighborhood:"
   ]
  },
  {
   "cell_type": "code",
   "execution_count": 442,
   "metadata": {},
   "outputs": [],
   "source": [
    "def getNearbyVenues(names, latitudes, longitudes, radius=2000, categoryid='4bf58dd8d48988d110941735'):\n",
    "    \n",
    "    venues_list=[]\n",
    "    for name, lat, lng in zip(names, latitudes, longitudes):\n",
    "            \n",
    "        # create the API request URL\n",
    "        url = 'https://api.foursquare.com/v2/venues/search?client_id={}&client_secret={}&ll={},{}&oauth_token={}&v={}&categoryId={}&radius={}&limit={}'.format(CLIENT_ID, CLIENT_SECRET, latitude, longitude,ACCESS_TOKEN, VERSION, categoryid, radius, LIMIT)\n",
    "            \n",
    "        # make the GET request\n",
    "        results = requests.get(url).json()[\"response\"]['venues']\n",
    "       \n",
    "        \n",
    "        # return only relevant information for each nearby venue\n",
    "        venues_list.append([(\n",
    "            name, \n",
    "            lat, \n",
    "            lng, \n",
    "            v['name'], \n",
    "            v['id'],\n",
    "            v['location']['lat'], \n",
    "            v['location']['lng'],  \n",
    "            v['categories'][0]['name']) for v in results])\n",
    "\n",
    "    nearby_venues = pd.DataFrame([item for venue_list in venues_list for item in venue_list])\n",
    "    nearby_venues.columns = ['Neighborhood', \n",
    "                  'Neighborhood Latitude', \n",
    "                  'Neighborhood Longitude', \n",
    "                  'Venue', \n",
    "                  'Venue ID',\n",
    "                  'Venue Latitude', \n",
    "                  'Venue Longitude', \n",
    "                  'Venue Category']\n",
    "    \n",
    "    return(nearby_venues)"
   ]
  },
  {
   "cell_type": "code",
   "execution_count": 443,
   "metadata": {},
   "outputs": [],
   "source": [
    "toronto_venues = getNearbyVenues(names=toronto_data['Neighborhood'],\n",
    "                                   latitudes=toronto_data['Latitude'],\n",
    "                                   longitudes=toronto_data['Longitude']\n",
    "                                  )"
   ]
  },
  {
   "cell_type": "code",
   "execution_count": 444,
   "metadata": {},
   "outputs": [],
   "source": [
    "#toronto_venues.head()"
   ]
  },
  {
   "cell_type": "code",
   "execution_count": 445,
   "metadata": {
    "scrolled": false
   },
   "outputs": [
    {
     "data": {
      "text/html": [
       "<div>\n",
       "<style scoped>\n",
       "    .dataframe tbody tr th:only-of-type {\n",
       "        vertical-align: middle;\n",
       "    }\n",
       "\n",
       "    .dataframe tbody tr th {\n",
       "        vertical-align: top;\n",
       "    }\n",
       "\n",
       "    .dataframe thead th {\n",
       "        text-align: right;\n",
       "    }\n",
       "</style>\n",
       "<table border=\"1\" class=\"dataframe\">\n",
       "  <thead>\n",
       "    <tr style=\"text-align: right;\">\n",
       "      <th></th>\n",
       "      <th>Neighborhood</th>\n",
       "      <th>Neighborhood Latitude</th>\n",
       "      <th>Neighborhood Longitude</th>\n",
       "      <th>Venue</th>\n",
       "      <th>Venue ID</th>\n",
       "      <th>Venue Latitude</th>\n",
       "      <th>Venue Longitude</th>\n",
       "      <th>Venue Category</th>\n",
       "    </tr>\n",
       "  </thead>\n",
       "  <tbody>\n",
       "    <tr>\n",
       "      <th>1</th>\n",
       "      <td>Regent Park, Harbourfront</td>\n",
       "      <td>43.763573</td>\n",
       "      <td>-79.188711</td>\n",
       "      <td>F'Amelia</td>\n",
       "      <td>4e4e7aa06365e1419d021044</td>\n",
       "      <td>43.667536</td>\n",
       "      <td>-79.368613</td>\n",
       "      <td>Italian Restaurant</td>\n",
       "    </tr>\n",
       "    <tr>\n",
       "      <th>2</th>\n",
       "      <td>Regent Park, Harbourfront</td>\n",
       "      <td>43.763573</td>\n",
       "      <td>-79.188711</td>\n",
       "      <td>Gusto 101</td>\n",
       "      <td>4ee8f32602d5895bd7dce1b1</td>\n",
       "      <td>43.644988</td>\n",
       "      <td>-79.400270</td>\n",
       "      <td>Italian Restaurant</td>\n",
       "    </tr>\n",
       "    <tr>\n",
       "      <th>3</th>\n",
       "      <td>Regent Park, Harbourfront</td>\n",
       "      <td>43.763573</td>\n",
       "      <td>-79.188711</td>\n",
       "      <td>Pizzeria Libretto</td>\n",
       "      <td>56549cc9498eb2df2e1c437c</td>\n",
       "      <td>43.644449</td>\n",
       "      <td>-79.398759</td>\n",
       "      <td>Italian Restaurant</td>\n",
       "    </tr>\n",
       "    <tr>\n",
       "      <th>4</th>\n",
       "      <td>Regent Park, Harbourfront</td>\n",
       "      <td>43.763573</td>\n",
       "      <td>-79.188711</td>\n",
       "      <td>Bar Buca</td>\n",
       "      <td>52e88e92498e30016f1b3cf0</td>\n",
       "      <td>43.643918</td>\n",
       "      <td>-79.399742</td>\n",
       "      <td>Italian Restaurant</td>\n",
       "    </tr>\n",
       "    <tr>\n",
       "      <th>6</th>\n",
       "      <td>Garden District, Ryerson</td>\n",
       "      <td>43.692657</td>\n",
       "      <td>-79.264848</td>\n",
       "      <td>F'Amelia</td>\n",
       "      <td>4e4e7aa06365e1419d021044</td>\n",
       "      <td>43.667536</td>\n",
       "      <td>-79.368613</td>\n",
       "      <td>Italian Restaurant</td>\n",
       "    </tr>\n",
       "  </tbody>\n",
       "</table>\n",
       "</div>"
      ],
      "text/plain": [
       "                Neighborhood  Neighborhood Latitude  Neighborhood Longitude  \\\n",
       "1  Regent Park, Harbourfront              43.763573              -79.188711   \n",
       "2  Regent Park, Harbourfront              43.763573              -79.188711   \n",
       "3  Regent Park, Harbourfront              43.763573              -79.188711   \n",
       "4  Regent Park, Harbourfront              43.763573              -79.188711   \n",
       "6   Garden District, Ryerson              43.692657              -79.264848   \n",
       "\n",
       "               Venue                  Venue ID  Venue Latitude  \\\n",
       "1           F'Amelia  4e4e7aa06365e1419d021044       43.667536   \n",
       "2          Gusto 101  4ee8f32602d5895bd7dce1b1       43.644988   \n",
       "3  Pizzeria Libretto  56549cc9498eb2df2e1c437c       43.644449   \n",
       "4           Bar Buca  52e88e92498e30016f1b3cf0       43.643918   \n",
       "6           F'Amelia  4e4e7aa06365e1419d021044       43.667536   \n",
       "\n",
       "   Venue Longitude      Venue Category  \n",
       "1       -79.368613  Italian Restaurant  \n",
       "2       -79.400270  Italian Restaurant  \n",
       "3       -79.398759  Italian Restaurant  \n",
       "4       -79.399742  Italian Restaurant  \n",
       "6       -79.368613  Italian Restaurant  "
      ]
     },
     "execution_count": 445,
     "metadata": {},
     "output_type": "execute_result"
    }
   ],
   "source": [
    "italian_toronto_venues=toronto_venues.loc[toronto_venues['Venue Category'] == 'Italian Restaurant']\n",
    "italian_toronto_venues.head()"
   ]
  },
  {
   "cell_type": "code",
   "execution_count": 446,
   "metadata": {},
   "outputs": [
    {
     "data": {
      "text/plain": [
       "(68, 8)"
      ]
     },
     "execution_count": 446,
     "metadata": {},
     "output_type": "execute_result"
    }
   ],
   "source": [
    "italian_toronto_venues.shape"
   ]
  },
  {
   "cell_type": "markdown",
   "metadata": {},
   "source": [
    "## Get the rating of each of the venues"
   ]
  },
  {
   "cell_type": "code",
   "execution_count": 447,
   "metadata": {},
   "outputs": [],
   "source": [
    "def get_venue_details(neighborhood, neighborhood_lat, neighborhood_long, name, venue_id, venue_lat, venue_long, venue_cat):\n",
    "\n",
    "    venue_details=[]\n",
    "    for neighborhood, neighborhood_lat, neighborhood_long, name, venue_id, venue_lat, venue_long, venue_cat in zip(neighborhood, neighborhood_lat, neighborhood_long, name, venue_id, venue_lat, venue_long, venue_cat):\n",
    "    \n",
    "    #url to fetch data from foursquare api\n",
    "        url = 'https://api.foursquare.com/v2/venues/{}?&client_id={}&client_secret={}&v={}'.format(\n",
    "            venue_id,\n",
    "            CLIENT_ID, \n",
    "            CLIENT_SECRET, \n",
    "            VERSION)\n",
    "        \n",
    "        \n",
    "    \n",
    "    # get all the data\n",
    "        results = requests.get(url).json()['response']['venue']\n",
    "        \n",
    "        # return only relevant information\n",
    "        venue_details.append([(\n",
    "            neighborhood,\n",
    "            neighborhood_lat,\n",
    "            neighborhood_long,\n",
    "            name,\n",
    "            venue_id, \n",
    "            results['rating'],\n",
    "            venue_lat,\n",
    "            venue_long,\n",
    "            venue_cat)])\n",
    "        \n",
    "        \n",
    "    df = pd.DataFrame([item for venue_details in venue_details for item in venue_details])\n",
    "    df.columns = ['Neighborhood',\n",
    "                  'Neighborhood Latitude',\n",
    "                  'Neighborhood Longitude',\n",
    "                  'Venue',\n",
    "                  'Venue ID', \n",
    "                  'Rating',\n",
    "                  'Venue Latitude',\n",
    "                  'Venue Longitude',\n",
    "                  'Venue Category']    \n",
    "        \n",
    "    return df"
   ]
  },
  {
   "cell_type": "code",
   "execution_count": 448,
   "metadata": {},
   "outputs": [
    {
     "ename": "KeyError",
     "evalue": "'venue'",
     "output_type": "error",
     "traceback": [
      "\u001b[1;31m---------------------------------------------------------------------------\u001b[0m",
      "\u001b[1;31mKeyError\u001b[0m                                  Traceback (most recent call last)",
      "\u001b[1;32m<ipython-input-448-d9c846f18a73>\u001b[0m in \u001b[0;36m<module>\u001b[1;34m\u001b[0m\n\u001b[1;32m----> 1\u001b[1;33m toronto_details = get_venue_details(neighborhood=italian_toronto_venues['Neighborhood'],\n\u001b[0m\u001b[0;32m      2\u001b[0m                                     \u001b[0mneighborhood_lat\u001b[0m\u001b[1;33m=\u001b[0m\u001b[0mitalian_toronto_venues\u001b[0m\u001b[1;33m[\u001b[0m\u001b[1;34m'Neighborhood Latitude'\u001b[0m\u001b[1;33m]\u001b[0m\u001b[1;33m,\u001b[0m\u001b[1;33m\u001b[0m\u001b[1;33m\u001b[0m\u001b[0m\n\u001b[0;32m      3\u001b[0m                                     \u001b[0mneighborhood_long\u001b[0m\u001b[1;33m=\u001b[0m\u001b[0mitalian_toronto_venues\u001b[0m\u001b[1;33m[\u001b[0m\u001b[1;34m'Neighborhood Longitude'\u001b[0m\u001b[1;33m]\u001b[0m\u001b[1;33m,\u001b[0m\u001b[1;33m\u001b[0m\u001b[1;33m\u001b[0m\u001b[0m\n\u001b[0;32m      4\u001b[0m                                     \u001b[0mname\u001b[0m\u001b[1;33m=\u001b[0m\u001b[0mitalian_toronto_venues\u001b[0m\u001b[1;33m[\u001b[0m\u001b[1;34m'Venue'\u001b[0m\u001b[1;33m]\u001b[0m\u001b[1;33m,\u001b[0m\u001b[1;33m\u001b[0m\u001b[1;33m\u001b[0m\u001b[0m\n\u001b[0;32m      5\u001b[0m                                     \u001b[0mvenue_id\u001b[0m\u001b[1;33m=\u001b[0m\u001b[0mitalian_toronto_venues\u001b[0m\u001b[1;33m[\u001b[0m\u001b[1;34m'Venue ID'\u001b[0m\u001b[1;33m]\u001b[0m\u001b[1;33m,\u001b[0m\u001b[1;33m\u001b[0m\u001b[1;33m\u001b[0m\u001b[0m\n",
      "\u001b[1;32m<ipython-input-447-93e630754c38>\u001b[0m in \u001b[0;36mget_venue_details\u001b[1;34m(neighborhood, neighborhood_lat, neighborhood_long, name, venue_id, venue_lat, venue_long, venue_cat)\u001b[0m\n\u001b[0;32m     14\u001b[0m \u001b[1;33m\u001b[0m\u001b[0m\n\u001b[0;32m     15\u001b[0m     \u001b[1;31m# get all the data\u001b[0m\u001b[1;33m\u001b[0m\u001b[1;33m\u001b[0m\u001b[1;33m\u001b[0m\u001b[0m\n\u001b[1;32m---> 16\u001b[1;33m         \u001b[0mresults\u001b[0m \u001b[1;33m=\u001b[0m \u001b[0mrequests\u001b[0m\u001b[1;33m.\u001b[0m\u001b[0mget\u001b[0m\u001b[1;33m(\u001b[0m\u001b[0murl\u001b[0m\u001b[1;33m)\u001b[0m\u001b[1;33m.\u001b[0m\u001b[0mjson\u001b[0m\u001b[1;33m(\u001b[0m\u001b[1;33m)\u001b[0m\u001b[1;33m[\u001b[0m\u001b[1;34m'response'\u001b[0m\u001b[1;33m]\u001b[0m\u001b[1;33m[\u001b[0m\u001b[1;34m'venue'\u001b[0m\u001b[1;33m]\u001b[0m\u001b[1;33m\u001b[0m\u001b[1;33m\u001b[0m\u001b[0m\n\u001b[0m\u001b[0;32m     17\u001b[0m \u001b[1;33m\u001b[0m\u001b[0m\n\u001b[0;32m     18\u001b[0m         \u001b[1;31m# return only relevant information\u001b[0m\u001b[1;33m\u001b[0m\u001b[1;33m\u001b[0m\u001b[1;33m\u001b[0m\u001b[0m\n",
      "\u001b[1;31mKeyError\u001b[0m: 'venue'"
     ]
    }
   ],
   "source": [
    "toronto_details = get_venue_details(neighborhood=italian_toronto_venues['Neighborhood'],\n",
    "                                    neighborhood_lat=italian_toronto_venues['Neighborhood Latitude'],\n",
    "                                    neighborhood_long=italian_toronto_venues['Neighborhood Longitude'],\n",
    "                                    name=italian_toronto_venues['Venue'],\n",
    "                                    venue_id=italian_toronto_venues['Venue ID'],\n",
    "                                    venue_lat=italian_toronto_venues['Venue Latitude'],\n",
    "                                    venue_long=italian_toronto_venues['Venue Longitude'],\n",
    "                                    venue_cat=italian_toronto_venues['Venue Category']\n",
    "                                  )"
   ]
  },
  {
   "cell_type": "markdown",
   "metadata": {},
   "source": [
    "\"Because of the limitations of the free FourSquare-API\" it is only possible to get 10 results of premium-data per day. As venue-ratings are considered as such, the code gives out an error-message after 10 ratings.\n",
    "\n",
    "Because of that it is not possible to get the ratings of all venues."
   ]
  },
  {
   "cell_type": "markdown",
   "metadata": {},
   "source": [
    "## Results"
   ]
  },
  {
   "cell_type": "code",
   "execution_count": 453,
   "metadata": {},
   "outputs": [
    {
     "data": {
      "text/html": [
       "<div>\n",
       "<style scoped>\n",
       "    .dataframe tbody tr th:only-of-type {\n",
       "        vertical-align: middle;\n",
       "    }\n",
       "\n",
       "    .dataframe tbody tr th {\n",
       "        vertical-align: top;\n",
       "    }\n",
       "\n",
       "    .dataframe thead th {\n",
       "        text-align: right;\n",
       "    }\n",
       "</style>\n",
       "<table border=\"1\" class=\"dataframe\">\n",
       "  <thead>\n",
       "    <tr style=\"text-align: right;\">\n",
       "      <th></th>\n",
       "      <th>Neighborhood</th>\n",
       "      <th>Neighborhood Latitude</th>\n",
       "      <th>Neighborhood Longitude</th>\n",
       "      <th>Venue</th>\n",
       "      <th>Venue ID</th>\n",
       "      <th>Rating</th>\n",
       "      <th>Venue Latitude</th>\n",
       "      <th>Venue Longitude</th>\n",
       "      <th>Venue Category</th>\n",
       "    </tr>\n",
       "  </thead>\n",
       "  <tbody>\n",
       "    <tr>\n",
       "      <th>0</th>\n",
       "      <td>Regent Park, Harbourfront</td>\n",
       "      <td>43.763573</td>\n",
       "      <td>-79.188711</td>\n",
       "      <td>F'Amelia</td>\n",
       "      <td>4e4e7aa06365e1419d021044</td>\n",
       "      <td>8.6</td>\n",
       "      <td>43.667536</td>\n",
       "      <td>-79.368613</td>\n",
       "      <td>Italian Restaurant</td>\n",
       "    </tr>\n",
       "    <tr>\n",
       "      <th>1</th>\n",
       "      <td>Regent Park, Harbourfront</td>\n",
       "      <td>43.763573</td>\n",
       "      <td>-79.188711</td>\n",
       "      <td>Gusto 101</td>\n",
       "      <td>4ee8f32602d5895bd7dce1b1</td>\n",
       "      <td>8.7</td>\n",
       "      <td>43.644988</td>\n",
       "      <td>-79.400270</td>\n",
       "      <td>Italian Restaurant</td>\n",
       "    </tr>\n",
       "  </tbody>\n",
       "</table>\n",
       "</div>"
      ],
      "text/plain": [
       "                Neighborhood  Neighborhood Latitude  Neighborhood Longitude  \\\n",
       "0  Regent Park, Harbourfront              43.763573              -79.188711   \n",
       "1  Regent Park, Harbourfront              43.763573              -79.188711   \n",
       "\n",
       "       Venue                  Venue ID  Rating  Venue Latitude  \\\n",
       "0   F'Amelia  4e4e7aa06365e1419d021044     8.6       43.667536   \n",
       "1  Gusto 101  4ee8f32602d5895bd7dce1b1     8.7       43.644988   \n",
       "\n",
       "   Venue Longitude      Venue Category  \n",
       "0       -79.368613  Italian Restaurant  \n",
       "1       -79.400270  Italian Restaurant  "
      ]
     },
     "execution_count": 453,
     "metadata": {},
     "output_type": "execute_result"
    }
   ],
   "source": [
    "toronto_details"
   ]
  },
  {
   "cell_type": "code",
   "execution_count": 454,
   "metadata": {},
   "outputs": [
    {
     "data": {
      "text/html": [
       "<div style=\"width:100%;\"><div style=\"position:relative;width:100%;height:0;padding-bottom:60%;\"><span style=\"color:#565656\">Make this Notebook Trusted to load map: File -> Trust Notebook</span><iframe src=\"about:blank\" style=\"position:absolute;width:100%;height:100%;left:0;top:0;border:none !important;\" data-html=%3C%21DOCTYPE%20html%3E%0A%3Chead%3E%20%20%20%20%0A%20%20%20%20%3Cmeta%20http-equiv%3D%22content-type%22%20content%3D%22text/html%3B%20charset%3DUTF-8%22%20/%3E%0A%20%20%20%20%3Cscript%3EL_PREFER_CANVAS%20%3D%20false%3B%20L_NO_TOUCH%20%3D%20false%3B%20L_DISABLE_3D%20%3D%20false%3B%3C/script%3E%0A%20%20%20%20%3Cscript%20src%3D%22https%3A//cdn.jsdelivr.net/npm/leaflet%401.2.0/dist/leaflet.js%22%3E%3C/script%3E%0A%20%20%20%20%3Cscript%20src%3D%22https%3A//ajax.googleapis.com/ajax/libs/jquery/1.11.1/jquery.min.js%22%3E%3C/script%3E%0A%20%20%20%20%3Cscript%20src%3D%22https%3A//maxcdn.bootstrapcdn.com/bootstrap/3.2.0/js/bootstrap.min.js%22%3E%3C/script%3E%0A%20%20%20%20%3Cscript%20src%3D%22https%3A//cdnjs.cloudflare.com/ajax/libs/Leaflet.awesome-markers/2.0.2/leaflet.awesome-markers.js%22%3E%3C/script%3E%0A%20%20%20%20%3Clink%20rel%3D%22stylesheet%22%20href%3D%22https%3A//cdn.jsdelivr.net/npm/leaflet%401.2.0/dist/leaflet.css%22/%3E%0A%20%20%20%20%3Clink%20rel%3D%22stylesheet%22%20href%3D%22https%3A//maxcdn.bootstrapcdn.com/bootstrap/3.2.0/css/bootstrap.min.css%22/%3E%0A%20%20%20%20%3Clink%20rel%3D%22stylesheet%22%20href%3D%22https%3A//maxcdn.bootstrapcdn.com/bootstrap/3.2.0/css/bootstrap-theme.min.css%22/%3E%0A%20%20%20%20%3Clink%20rel%3D%22stylesheet%22%20href%3D%22https%3A//maxcdn.bootstrapcdn.com/font-awesome/4.6.3/css/font-awesome.min.css%22/%3E%0A%20%20%20%20%3Clink%20rel%3D%22stylesheet%22%20href%3D%22https%3A//cdnjs.cloudflare.com/ajax/libs/Leaflet.awesome-markers/2.0.2/leaflet.awesome-markers.css%22/%3E%0A%20%20%20%20%3Clink%20rel%3D%22stylesheet%22%20href%3D%22https%3A//rawgit.com/python-visualization/folium/master/folium/templates/leaflet.awesome.rotate.css%22/%3E%0A%20%20%20%20%3Cstyle%3Ehtml%2C%20body%20%7Bwidth%3A%20100%25%3Bheight%3A%20100%25%3Bmargin%3A%200%3Bpadding%3A%200%3B%7D%3C/style%3E%0A%20%20%20%20%3Cstyle%3E%23map%20%7Bposition%3Aabsolute%3Btop%3A0%3Bbottom%3A0%3Bright%3A0%3Bleft%3A0%3B%7D%3C/style%3E%0A%20%20%20%20%0A%20%20%20%20%20%20%20%20%20%20%20%20%3Cstyle%3E%20%23map_d424e46faac54faa8c8a6d4059dec658%20%7B%0A%20%20%20%20%20%20%20%20%20%20%20%20%20%20%20%20position%20%3A%20relative%3B%0A%20%20%20%20%20%20%20%20%20%20%20%20%20%20%20%20width%20%3A%20100.0%25%3B%0A%20%20%20%20%20%20%20%20%20%20%20%20%20%20%20%20height%3A%20100.0%25%3B%0A%20%20%20%20%20%20%20%20%20%20%20%20%20%20%20%20left%3A%200.0%25%3B%0A%20%20%20%20%20%20%20%20%20%20%20%20%20%20%20%20top%3A%200.0%25%3B%0A%20%20%20%20%20%20%20%20%20%20%20%20%20%20%20%20%7D%0A%20%20%20%20%20%20%20%20%20%20%20%20%3C/style%3E%0A%20%20%20%20%20%20%20%20%0A%3C/head%3E%0A%3Cbody%3E%20%20%20%20%0A%20%20%20%20%0A%20%20%20%20%20%20%20%20%20%20%20%20%3Cdiv%20class%3D%22folium-map%22%20id%3D%22map_d424e46faac54faa8c8a6d4059dec658%22%20%3E%3C/div%3E%0A%20%20%20%20%20%20%20%20%0A%3C/body%3E%0A%3Cscript%3E%20%20%20%20%0A%20%20%20%20%0A%0A%20%20%20%20%20%20%20%20%20%20%20%20%0A%20%20%20%20%20%20%20%20%20%20%20%20%20%20%20%20var%20bounds%20%3D%20null%3B%0A%20%20%20%20%20%20%20%20%20%20%20%20%0A%0A%20%20%20%20%20%20%20%20%20%20%20%20var%20map_d424e46faac54faa8c8a6d4059dec658%20%3D%20L.map%28%0A%20%20%20%20%20%20%20%20%20%20%20%20%20%20%20%20%20%20%20%20%20%20%20%20%20%20%20%20%20%20%20%20%20%20%27map_d424e46faac54faa8c8a6d4059dec658%27%2C%0A%20%20%20%20%20%20%20%20%20%20%20%20%20%20%20%20%20%20%20%20%20%20%20%20%20%20%20%20%20%20%20%20%20%20%7Bcenter%3A%20%5B43.6534817%2C-79.3839347%5D%2C%0A%20%20%20%20%20%20%20%20%20%20%20%20%20%20%20%20%20%20%20%20%20%20%20%20%20%20%20%20%20%20%20%20%20%20zoom%3A%2010%2C%0A%20%20%20%20%20%20%20%20%20%20%20%20%20%20%20%20%20%20%20%20%20%20%20%20%20%20%20%20%20%20%20%20%20%20maxBounds%3A%20bounds%2C%0A%20%20%20%20%20%20%20%20%20%20%20%20%20%20%20%20%20%20%20%20%20%20%20%20%20%20%20%20%20%20%20%20%20%20layers%3A%20%5B%5D%2C%0A%20%20%20%20%20%20%20%20%20%20%20%20%20%20%20%20%20%20%20%20%20%20%20%20%20%20%20%20%20%20%20%20%20%20worldCopyJump%3A%20false%2C%0A%20%20%20%20%20%20%20%20%20%20%20%20%20%20%20%20%20%20%20%20%20%20%20%20%20%20%20%20%20%20%20%20%20%20crs%3A%20L.CRS.EPSG3857%0A%20%20%20%20%20%20%20%20%20%20%20%20%20%20%20%20%20%20%20%20%20%20%20%20%20%20%20%20%20%20%20%20%20%7D%29%3B%0A%20%20%20%20%20%20%20%20%20%20%20%20%0A%20%20%20%20%20%20%20%20%0A%20%20%20%20%0A%20%20%20%20%20%20%20%20%20%20%20%20var%20tile_layer_47c332fd4f044782b8b4dc609150cb30%20%3D%20L.tileLayer%28%0A%20%20%20%20%20%20%20%20%20%20%20%20%20%20%20%20%27https%3A//%7Bs%7D.tile.openstreetmap.org/%7Bz%7D/%7Bx%7D/%7By%7D.png%27%2C%0A%20%20%20%20%20%20%20%20%20%20%20%20%20%20%20%20%7B%0A%20%20%22attribution%22%3A%20null%2C%0A%20%20%22detectRetina%22%3A%20false%2C%0A%20%20%22maxZoom%22%3A%2018%2C%0A%20%20%22minZoom%22%3A%201%2C%0A%20%20%22noWrap%22%3A%20false%2C%0A%20%20%22subdomains%22%3A%20%22abc%22%0A%7D%0A%20%20%20%20%20%20%20%20%20%20%20%20%20%20%20%20%29.addTo%28map_d424e46faac54faa8c8a6d4059dec658%29%3B%0A%20%20%20%20%20%20%20%20%0A%20%20%20%20%0A%20%20%20%20%20%20%20%20%20%20%20%20var%20circle_marker_21843feaaf3340e38d715d6892cfa48f%20%3D%20L.circleMarker%28%0A%20%20%20%20%20%20%20%20%20%20%20%20%20%20%20%20%5B43.66753590663226%2C-79.36861331485827%5D%2C%0A%20%20%20%20%20%20%20%20%20%20%20%20%20%20%20%20%7B%0A%20%20%22bubblingMouseEvents%22%3A%20true%2C%0A%20%20%22color%22%3A%20%22blue%22%2C%0A%20%20%22dashArray%22%3A%20null%2C%0A%20%20%22dashOffset%22%3A%20null%2C%0A%20%20%22fill%22%3A%20true%2C%0A%20%20%22fillColor%22%3A%20%22%233186cc%22%2C%0A%20%20%22fillOpacity%22%3A%200.7%2C%0A%20%20%22fillRule%22%3A%20%22evenodd%22%2C%0A%20%20%22lineCap%22%3A%20%22round%22%2C%0A%20%20%22lineJoin%22%3A%20%22round%22%2C%0A%20%20%22opacity%22%3A%201.0%2C%0A%20%20%22radius%22%3A%205%2C%0A%20%20%22stroke%22%3A%20true%2C%0A%20%20%22weight%22%3A%203%0A%7D%0A%20%20%20%20%20%20%20%20%20%20%20%20%20%20%20%20%29.addTo%28map_d424e46faac54faa8c8a6d4059dec658%29%3B%0A%20%20%20%20%20%20%20%20%20%20%20%20%0A%20%20%20%20%0A%20%20%20%20%20%20%20%20%20%20%20%20var%20popup_d4b32dd1ea5347d5885966cd23d6764e%20%3D%20L.popup%28%7BmaxWidth%3A%20%27300%27%7D%29%3B%0A%0A%20%20%20%20%20%20%20%20%20%20%20%20%0A%20%20%20%20%20%20%20%20%20%20%20%20%20%20%20%20var%20html_ab01c64d16b847daba826df02b35aebb%20%3D%20%24%28%27%3Cdiv%20id%3D%22html_ab01c64d16b847daba826df02b35aebb%22%20style%3D%22width%3A%20100.0%25%3B%20height%3A%20100.0%25%3B%22%3ERegent%20Park%2C%20Harbourfront%2C%20F%26%2339%3BAmelia%2C%208.6%3C/div%3E%27%29%5B0%5D%3B%0A%20%20%20%20%20%20%20%20%20%20%20%20%20%20%20%20popup_d4b32dd1ea5347d5885966cd23d6764e.setContent%28html_ab01c64d16b847daba826df02b35aebb%29%3B%0A%20%20%20%20%20%20%20%20%20%20%20%20%0A%0A%20%20%20%20%20%20%20%20%20%20%20%20circle_marker_21843feaaf3340e38d715d6892cfa48f.bindPopup%28popup_d4b32dd1ea5347d5885966cd23d6764e%29%3B%0A%0A%20%20%20%20%20%20%20%20%20%20%20%20%0A%20%20%20%20%20%20%20%20%0A%20%20%20%20%0A%20%20%20%20%20%20%20%20%20%20%20%20var%20circle_marker_94072e6a73c340edb700d75a74afbfdf%20%3D%20L.circleMarker%28%0A%20%20%20%20%20%20%20%20%20%20%20%20%20%20%20%20%5B43.644988223402216%2C-79.4002697924689%5D%2C%0A%20%20%20%20%20%20%20%20%20%20%20%20%20%20%20%20%7B%0A%20%20%22bubblingMouseEvents%22%3A%20true%2C%0A%20%20%22color%22%3A%20%22blue%22%2C%0A%20%20%22dashArray%22%3A%20null%2C%0A%20%20%22dashOffset%22%3A%20null%2C%0A%20%20%22fill%22%3A%20true%2C%0A%20%20%22fillColor%22%3A%20%22%233186cc%22%2C%0A%20%20%22fillOpacity%22%3A%200.7%2C%0A%20%20%22fillRule%22%3A%20%22evenodd%22%2C%0A%20%20%22lineCap%22%3A%20%22round%22%2C%0A%20%20%22lineJoin%22%3A%20%22round%22%2C%0A%20%20%22opacity%22%3A%201.0%2C%0A%20%20%22radius%22%3A%205%2C%0A%20%20%22stroke%22%3A%20true%2C%0A%20%20%22weight%22%3A%203%0A%7D%0A%20%20%20%20%20%20%20%20%20%20%20%20%20%20%20%20%29.addTo%28map_d424e46faac54faa8c8a6d4059dec658%29%3B%0A%20%20%20%20%20%20%20%20%20%20%20%20%0A%20%20%20%20%0A%20%20%20%20%20%20%20%20%20%20%20%20var%20popup_fa7424b213bf405791cca048b1b1471e%20%3D%20L.popup%28%7BmaxWidth%3A%20%27300%27%7D%29%3B%0A%0A%20%20%20%20%20%20%20%20%20%20%20%20%0A%20%20%20%20%20%20%20%20%20%20%20%20%20%20%20%20var%20html_196e3906c4814e0cb1ea327c483711d4%20%3D%20%24%28%27%3Cdiv%20id%3D%22html_196e3906c4814e0cb1ea327c483711d4%22%20style%3D%22width%3A%20100.0%25%3B%20height%3A%20100.0%25%3B%22%3ERegent%20Park%2C%20Harbourfront%2C%20Gusto%20101%2C%208.7%3C/div%3E%27%29%5B0%5D%3B%0A%20%20%20%20%20%20%20%20%20%20%20%20%20%20%20%20popup_fa7424b213bf405791cca048b1b1471e.setContent%28html_196e3906c4814e0cb1ea327c483711d4%29%3B%0A%20%20%20%20%20%20%20%20%20%20%20%20%0A%0A%20%20%20%20%20%20%20%20%20%20%20%20circle_marker_94072e6a73c340edb700d75a74afbfdf.bindPopup%28popup_fa7424b213bf405791cca048b1b1471e%29%3B%0A%0A%20%20%20%20%20%20%20%20%20%20%20%20%0A%20%20%20%20%20%20%20%20%0A%3C/script%3E onload=\"this.contentDocument.open();this.contentDocument.write(    decodeURIComponent(this.getAttribute('data-html')));this.contentDocument.close();\" allowfullscreen webkitallowfullscreen mozallowfullscreen></iframe></div></div>"
      ],
      "text/plain": [
       "<folium.folium.Map at 0x200bffa1670>"
      ]
     },
     "execution_count": 454,
     "metadata": {},
     "output_type": "execute_result"
    }
   ],
   "source": [
    "# create map of Toronto using latitude and longitude values\n",
    "map_toronto = folium.Map(location=[latitude, longitude], zoom_start=10)\n",
    "\n",
    "# add markers to map\n",
    "for lat, lng, name, neighborhood, rating in zip(toronto_details['Venue Latitude'], toronto_details['Venue Longitude'], toronto_details['Venue'],toronto_details['Neighborhood'], toronto_details['Rating']):\n",
    "    label = '{}, {}, {}'.format(neighborhood, name, rating)\n",
    "    label = folium.Popup(label, parse_html=True)\n",
    "    folium.CircleMarker(\n",
    "        [lat, lng],\n",
    "        radius=5,\n",
    "        popup=label,\n",
    "        color='blue',\n",
    "        fill=True,\n",
    "        fill_color='#3186cc',\n",
    "        fill_opacity=0.7,\n",
    "        parse_html=False).add_to(map_toronto)  \n",
    "    \n",
    "map_toronto"
   ]
  },
  {
   "cell_type": "markdown",
   "metadata": {},
   "source": [
    "In the above-shown map you can see the location of the top-rated Italian restaurant in each neighborhood"
   ]
  },
  {
   "cell_type": "markdown",
   "metadata": {},
   "source": [
    "Moreover you can also view the top restaurants of a specific neighborhood. E.g. if we concentrate on the neighborhood \"Regent Park, Harbourfront\" we see that there are the following top-rated restaurants:"
   ]
  },
  {
   "cell_type": "code",
   "execution_count": 455,
   "metadata": {},
   "outputs": [
    {
     "data": {
      "text/html": [
       "<div>\n",
       "<style scoped>\n",
       "    .dataframe tbody tr th:only-of-type {\n",
       "        vertical-align: middle;\n",
       "    }\n",
       "\n",
       "    .dataframe tbody tr th {\n",
       "        vertical-align: top;\n",
       "    }\n",
       "\n",
       "    .dataframe thead th {\n",
       "        text-align: right;\n",
       "    }\n",
       "</style>\n",
       "<table border=\"1\" class=\"dataframe\">\n",
       "  <thead>\n",
       "    <tr style=\"text-align: right;\">\n",
       "      <th></th>\n",
       "      <th>Neighborhood</th>\n",
       "      <th>Neighborhood Latitude</th>\n",
       "      <th>Neighborhood Longitude</th>\n",
       "      <th>Venue</th>\n",
       "      <th>Venue ID</th>\n",
       "      <th>Rating</th>\n",
       "      <th>Venue Latitude</th>\n",
       "      <th>Venue Longitude</th>\n",
       "      <th>Venue Category</th>\n",
       "    </tr>\n",
       "  </thead>\n",
       "  <tbody>\n",
       "    <tr>\n",
       "      <th>0</th>\n",
       "      <td>Regent Park, Harbourfront</td>\n",
       "      <td>43.763573</td>\n",
       "      <td>-79.188711</td>\n",
       "      <td>F'Amelia</td>\n",
       "      <td>4e4e7aa06365e1419d021044</td>\n",
       "      <td>8.6</td>\n",
       "      <td>43.667536</td>\n",
       "      <td>-79.368613</td>\n",
       "      <td>Italian Restaurant</td>\n",
       "    </tr>\n",
       "    <tr>\n",
       "      <th>1</th>\n",
       "      <td>Regent Park, Harbourfront</td>\n",
       "      <td>43.763573</td>\n",
       "      <td>-79.188711</td>\n",
       "      <td>Gusto 101</td>\n",
       "      <td>4ee8f32602d5895bd7dce1b1</td>\n",
       "      <td>8.7</td>\n",
       "      <td>43.644988</td>\n",
       "      <td>-79.400270</td>\n",
       "      <td>Italian Restaurant</td>\n",
       "    </tr>\n",
       "  </tbody>\n",
       "</table>\n",
       "</div>"
      ],
      "text/plain": [
       "                Neighborhood  Neighborhood Latitude  Neighborhood Longitude  \\\n",
       "0  Regent Park, Harbourfront              43.763573              -79.188711   \n",
       "1  Regent Park, Harbourfront              43.763573              -79.188711   \n",
       "\n",
       "       Venue                  Venue ID  Rating  Venue Latitude  \\\n",
       "0   F'Amelia  4e4e7aa06365e1419d021044     8.6       43.667536   \n",
       "1  Gusto 101  4ee8f32602d5895bd7dce1b1     8.7       43.644988   \n",
       "\n",
       "   Venue Longitude      Venue Category  \n",
       "0       -79.368613  Italian Restaurant  \n",
       "1       -79.400270  Italian Restaurant  "
      ]
     },
     "execution_count": 455,
     "metadata": {},
     "output_type": "execute_result"
    }
   ],
   "source": [
    "regent_park=toronto_details.loc[toronto_details['Neighborhood']=='Regent Park, Harbourfront']\n",
    "regent_park"
   ]
  },
  {
   "cell_type": "markdown",
   "metadata": {},
   "source": [
    "## Discussion"
   ]
  },
  {
   "cell_type": "markdown",
   "metadata": {},
   "source": [
    "The results show that the top-rated Italian restaurants of the neighborhood Regent Park, Harbourfront are F'Amelia rated with 8.6 & Gusto 101 rated with 8.7"
   ]
  },
  {
   "cell_type": "markdown",
   "metadata": {},
   "source": [
    "## Conclusion"
   ]
  },
  {
   "cell_type": "markdown",
   "metadata": {},
   "source": [
    "The purpose of this project was to give an overview about the best-rated Italian restaurants in town and to show which neighborhoods have a variety of good-rated ones and which neighborhoods are lacking them.\n",
    "\n",
    "All in all it was possible to get a good overview but there have been a few limitations as well. Because of the limited function of the free FourSquare-API it is only possible to get a limited amount of ratings of the different restaurants. By that it is not possible to give a generalistic overview about the situation but it is only possible to do show the methodology how to do it and execute the code only for an excerpt. \n",
    "\n"
   ]
  },
  {
   "cell_type": "code",
   "execution_count": null,
   "metadata": {},
   "outputs": [],
   "source": []
  }
 ],
 "metadata": {
  "kernelspec": {
   "display_name": "Python 3",
   "language": "python",
   "name": "python3"
  },
  "language_info": {
   "codemirror_mode": {
    "name": "ipython",
    "version": 3
   },
   "file_extension": ".py",
   "mimetype": "text/x-python",
   "name": "python",
   "nbconvert_exporter": "python",
   "pygments_lexer": "ipython3",
   "version": "3.8.5"
  }
 },
 "nbformat": 4,
 "nbformat_minor": 4
}
